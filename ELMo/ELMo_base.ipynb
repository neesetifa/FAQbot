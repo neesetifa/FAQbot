{
 "cells": [
  {
   "cell_type": "code",
   "execution_count": 1,
   "metadata": {},
   "outputs": [],
   "source": [
    "import argparse\n",
    "from collections import Counter\n",
    "import code\n",
    "import os\n",
    "import pickle\n",
    "from sklearn.metrics.pairwise import cosine_similarity"
   ]
  },
  {
   "cell_type": "code",
   "execution_count": 2,
   "metadata": {},
   "outputs": [],
   "source": [
    "import torch\n",
    "import torch.nn as nn\n",
    "import torch.nn.functional as F\n",
    "from torch.utils.data import DataLoader"
   ]
  },
  {
   "cell_type": "code",
   "execution_count": 3,
   "metadata": {},
   "outputs": [],
   "source": [
    "import numpy as np\n",
    "import pandas as pd\n",
    "import pkuseg\n",
    "from elmoformanylangs import Embedder"
   ]
  },
  {
   "cell_type": "code",
   "execution_count": 4,
   "metadata": {},
   "outputs": [
    {
     "name": "stderr",
     "output_type": "stream",
     "text": [
      "2020-01-02 21:06:07,999 INFO: char embedding size: 6169\n",
      "2020-01-02 21:06:08,449 INFO: word embedding size: 71222\n",
      "2020-01-02 21:06:11,989 INFO: Model(\n",
      "  (token_embedder): ConvTokenEmbedder(\n",
      "    (word_emb_layer): EmbeddingLayer(\n",
      "      (embedding): Embedding(71222, 100, padding_idx=3)\n",
      "    )\n",
      "    (char_emb_layer): EmbeddingLayer(\n",
      "      (embedding): Embedding(6169, 50, padding_idx=6166)\n",
      "    )\n",
      "    (convolutions): ModuleList(\n",
      "      (0): Conv1d(50, 32, kernel_size=(1,), stride=(1,))\n",
      "      (1): Conv1d(50, 32, kernel_size=(2,), stride=(1,))\n",
      "      (2): Conv1d(50, 64, kernel_size=(3,), stride=(1,))\n",
      "      (3): Conv1d(50, 128, kernel_size=(4,), stride=(1,))\n",
      "      (4): Conv1d(50, 256, kernel_size=(5,), stride=(1,))\n",
      "      (5): Conv1d(50, 512, kernel_size=(6,), stride=(1,))\n",
      "      (6): Conv1d(50, 1024, kernel_size=(7,), stride=(1,))\n",
      "    )\n",
      "    (highways): Highway(\n",
      "      (_layers): ModuleList(\n",
      "        (0): Linear(in_features=2048, out_features=4096, bias=True)\n",
      "        (1): Linear(in_features=2048, out_features=4096, bias=True)\n",
      "      )\n",
      "    )\n",
      "    (projection): Linear(in_features=2148, out_features=512, bias=True)\n",
      "  )\n",
      "  (encoder): ElmobiLm(\n",
      "    (forward_layer_0): LstmCellWithProjection(\n",
      "      (input_linearity): Linear(in_features=512, out_features=16384, bias=False)\n",
      "      (state_linearity): Linear(in_features=512, out_features=16384, bias=True)\n",
      "      (state_projection): Linear(in_features=4096, out_features=512, bias=False)\n",
      "    )\n",
      "    (backward_layer_0): LstmCellWithProjection(\n",
      "      (input_linearity): Linear(in_features=512, out_features=16384, bias=False)\n",
      "      (state_linearity): Linear(in_features=512, out_features=16384, bias=True)\n",
      "      (state_projection): Linear(in_features=4096, out_features=512, bias=False)\n",
      "    )\n",
      "    (forward_layer_1): LstmCellWithProjection(\n",
      "      (input_linearity): Linear(in_features=512, out_features=16384, bias=False)\n",
      "      (state_linearity): Linear(in_features=512, out_features=16384, bias=True)\n",
      "      (state_projection): Linear(in_features=4096, out_features=512, bias=False)\n",
      "    )\n",
      "    (backward_layer_1): LstmCellWithProjection(\n",
      "      (input_linearity): Linear(in_features=512, out_features=16384, bias=False)\n",
      "      (state_linearity): Linear(in_features=512, out_features=16384, bias=True)\n",
      "      (state_projection): Linear(in_features=4096, out_features=512, bias=False)\n",
      "    )\n",
      "  )\n",
      ")\n"
     ]
    }
   ],
   "source": [
    "e=Embedder('./zhs.model')\n",
    "seg=pkuseg.pkuseg()\n"
   ]
  },
  {
   "cell_type": "code",
   "execution_count": 18,
   "metadata": {},
   "outputs": [
    {
     "name": "stdout",
     "output_type": "stream",
     "text": [
      "[['今天', '天气', '真', '好', '啊'], ['潮水', '退', '了', '就', '知道', '谁', '没', '穿', '裤子']]\n"
     ]
    }
   ],
   "source": [
    "# sents = [\"今天天气真好啊\", \"潮水退了就知道谁没穿裤子\"]\n",
    "# sents = [seg.cut(sent) for sent in sents]\n",
    "# print(sents)"
   ]
  },
  {
   "cell_type": "code",
   "execution_count": 12,
   "metadata": {},
   "outputs": [
    {
     "name": "stderr",
     "output_type": "stream",
     "text": [
      "2019-12-31 13:29:57,075 INFO: 1 batches, avg len: 9.0\n"
     ]
    }
   ],
   "source": [
    "# embeddings = e.sents2elmo(sents)"
   ]
  },
  {
   "cell_type": "code",
   "execution_count": 16,
   "metadata": {},
   "outputs": [
    {
     "name": "stdout",
     "output_type": "stream",
     "text": [
      "1024\n"
     ]
    }
   ],
   "source": [
    "# print(len(embeddings[0][0]))"
   ]
  },
  {
   "cell_type": "code",
   "execution_count": 7,
   "metadata": {},
   "outputs": [],
   "source": [
    "def main():\n",
    "    # for bash command\n",
    "    #parser=argparse.ArgumentParser()\n",
    "    #parser.add_argument(\"--train_file\",default=None,type=str,required=True,\n",
    "    #                   help=\"my train file\")\n",
    "    #parser.add_argument(\"--batch_size\",default=64,type=int,required=False,\n",
    "    #                   help=\"my batch size\")\n",
    "    #args=parser.parse_args()\n",
    "    \n",
    "    if not os.path.exists(\"embeddings.pkl\"):\n",
    "        # train_df = pd.read_csv(args.train_file)  for bash command\n",
    "        train_df=pd.read_csv(\"/Users/valleria_ruka/Desktop/FAQ/lawzhidao_filter.csv\")\n",
    "        candidates=train_df[train_df[\"is_best\"]==1][[\"title\",\"reply\"]]\n",
    "        candidate_title=candidates[\"title\"].tolist()\n",
    "        candidate_reply=candidates[\"reply\"].tolist()\n",
    "        \n",
    "        titles=[seg.cut(title) for title in candidates[\"title\"]]\n",
    "        embeddings=e.sents2elmo(titles)\n",
    "        \n",
    "        #可以不求平均,直接embedding送入\n",
    "        candidate_embeddings=[np.mean(embedding,0) for embedding in embeddings]\n",
    "        \n",
    "        with open(\"embeddings.pkl\",\"wb\") as fout:\n",
    "            # pickle.dump([candidate_title,candidate_reply,embeddings],fout)\n",
    "            pickle.dump([candidate_title,candidate_reply,candidate_embeddings],fout)\n",
    "    \n",
    "    else:\n",
    "         with open(\"embeddings.pkl\",\"rb\") as fin:\n",
    "                #不求平均\n",
    "                # candidate_title,candidate_reply,embeddings=pickle.load(fin)\n",
    "                candidate_title,candidate_reply,candidate_embeddings=pickle.load(fin)\n",
    "            \n",
    "    \n",
    "    while True:\n",
    "        title=input(\"你丫的问题是? \\n\")\n",
    "        if len(title.strip())==0:\n",
    "            continue\n",
    "        \n",
    "        title=[seg.cut(title.strip())]\n",
    "        title_embedding=[np.mean(e.sents2elmo(title)[0],0)]\n",
    "        \n",
    "        #不求平均\n",
    "        # scores=cosine_similarity(title_embedding,embeddings)[0]\n",
    "        scores=cosine_similarity(title_embedding,candidate_embeddings)[0]\n",
    "        top5_indices=scores.argsort()[-5:][::-1]\n",
    "        for index in top5_indices:\n",
    "            print(print(\"可能的答案，参考问题：\" + candidate_title[index] + \n",
    "                        \"\\t答案：\" + candidate_reply[index] + \"\\t得分：\" + str(scores[index])))\n",
    "        "
   ]
  },
  {
   "cell_type": "code",
   "execution_count": 8,
   "metadata": {},
   "outputs": [
    {
     "name": "stderr",
     "output_type": "stream",
     "text": [
      "2020-01-02 21:13:58,665 INFO: 286 batches, avg len: 12.7\n",
      "2020-01-02 21:14:37,711 INFO: Finished 1000 sentences.\n",
      "2020-01-02 21:15:19,734 INFO: Finished 2000 sentences.\n",
      "2020-01-02 21:15:57,194 INFO: Finished 3000 sentences.\n",
      "2020-01-02 21:16:34,727 INFO: Finished 4000 sentences.\n",
      "2020-01-02 21:17:19,037 INFO: Finished 5000 sentences.\n",
      "2020-01-02 21:17:54,792 INFO: Finished 6000 sentences.\n",
      "2020-01-02 21:18:39,572 INFO: Finished 7000 sentences.\n",
      "2020-01-02 21:19:19,971 INFO: Finished 8000 sentences.\n",
      "2020-01-02 21:20:09,771 INFO: Finished 9000 sentences.\n",
      "2020-01-02 21:21:02,686 INFO: Finished 10000 sentences.\n",
      "2020-01-02 21:21:46,379 INFO: Finished 11000 sentences.\n",
      "2020-01-02 21:22:21,164 INFO: Finished 12000 sentences.\n",
      "2020-01-02 21:23:13,519 INFO: Finished 13000 sentences.\n",
      "2020-01-02 21:23:54,101 INFO: Finished 14000 sentences.\n",
      "2020-01-02 21:24:37,112 INFO: Finished 15000 sentences.\n",
      "2020-01-02 21:25:22,646 INFO: Finished 16000 sentences.\n",
      "2020-01-02 21:26:11,474 INFO: Finished 17000 sentences.\n",
      "2020-01-02 21:26:56,172 INFO: Finished 18000 sentences.\n"
     ]
    },
    {
     "name": "stdout",
     "output_type": "stream",
     "text": [
      "你丫的问题是? \n",
      "酒驾怎么办?\n"
     ]
    },
    {
     "name": "stderr",
     "output_type": "stream",
     "text": [
      "2020-01-02 21:28:53,391 INFO: 1 batches, avg len: 5.0\n"
     ]
    },
    {
     "name": "stdout",
     "output_type": "stream",
     "text": [
      "可能的答案，参考问题：修车协商不成怎么办?\t答案：根据《侵权责任法》的规定，发生财产损失双方协商不成的可以到法院起诉，由法院判决。\t得分：0.8282025\n",
      "None\n",
      "可能的答案，参考问题：360.借钱是真的吗?不是高利贷坑人的?\t答案：民间借贷是一种民事法律行为合法的在法律上认定的高利。贷是指超过银行同期基准利率的4倍，也就是产生法律纠纷时支持同期基准利率四倍以内的利率水平，超过银行同期基准利率的4倍，即为高利。贷，不受法律保护。因为不同期限的基准利率不同，高利，贷的法律认定还与期限相关。同期基准利率是指中央银行公布的基准利率，如一年期，基准利率为6%，4倍为24%，即超过24%为法律认定的高利，贷。就一年期来说，1####元，年利息不超过24%*1####=24##元不算高，利贷。\t得分：0.8056763\n",
      "None\n",
      "可能的答案，参考问题：喝醉酒取保后审还用做牢么?\t答案：要结合相关案情。喝醉酒犯了什么罪，要说清楚。喝醉酒不犯罪啊\t得分：0.7995957\n",
      "None\n",
      "可能的答案，参考问题：小猪白卡算是高利贷吗?\t答案：在法律上认定的高利。贷是指超过银行同期基准利率的4倍，也就是产生法律纠纷时支持同期基准利率四倍以内的利率水平，超过银行同期基准利率的4倍，即为高利。贷，不受法律保护。因为不同期限的基准利率不同，高利，贷的法律认定还与期限相关。同期基准利率是指中央银行公布的基准利率，如一年期，基准利率为6%，4倍为24%，即超过24%为法律认定的高利，贷。就一年期来说，1####元，年利息不超过24%*1####=24##元不算高，利贷。\t得分：0.7940981\n",
      "None\n",
      "可能的答案，参考问题：房管局查房需要户口本吗?\t答案：查别人，除非有委托书或者公正书，否则不会让你查的。查自己，就是本人身份证就可以了。\t得分：0.7617479\n",
      "None\n",
      "你丫的问题是? \n",
      "怎样找律师?\n"
     ]
    },
    {
     "name": "stderr",
     "output_type": "stream",
     "text": [
      "2020-01-02 21:29:08,015 INFO: 1 batches, avg len: 6.0\n"
     ]
    },
    {
     "name": "stdout",
     "output_type": "stream",
     "text": [
      "可能的答案，参考问题：给私人老板做工受伤?怎么赔偿,去找那个单位?\t答案：打工受伤，可以选择私了，协商解决。如果不能协商，可以选择报警，需要到当地公安局做法医鉴定，再做赔偿\t得分：0.80532694\n",
      "None\n",
      "可能的答案，参考问题：咨询律师怎么找？\t答案：咨询可分为：现场口头咨询、当事人提供案件材料后律师提供咨询意见及法律方案；法律咨询是指提供法律知识问题的解答。由于法律的复杂性，非专业人士在遇到法律问题时，往往需要求助于律师一类的法律专业人士。律师收咨询费按计时收费，根据案件的复杂性和工作量及各地区不一样，知名度高的收费会高点，这个你要和律师协商，一般都是协商制。通常会根据问题的难易程度及回答问题所耗费的时间、精力评估收取费用。\t得分：0.80098766\n",
      "None\n",
      "可能的答案，参考问题：北京金石律师事务所怎么样？收费贵吗？如何找律师？\t答案：各地区有一定差异，大致如下：无财产争议案件：普通民事、经济、行政案件，不涉及财产的，根据案件性质、复杂程度、工作所需耗费时间等因素，在6###—1#####元之间协商收取；外地民事、经济、行政案件不涉及财产的，代理费不低于2####元；律师代理分为以下几种第一种：一般代理。依律师职业道德为当事人代理案件，维护当事人权利。一般为纠纷标的的3-5%。标的高的话也可以低于该比例。第二种：风险代理。按胜诉金额或以得到的金额的百分比支付代理费，或按减少的支付额的百分比支付代理费，比例当然高于一般代理。第三种：半风险代理。给一定的基本费用，其他的再按风险代理计算，当然就介于一般代理和风险代理的比例之间。\t得分：0.7910868\n",
      "None\n",
      "可能的答案，参考问题：浠水人我想问下起诉离婚要怎么处理需要找律师吗\t答案：委托律师是公民的权利，律师费用参考：第一种：一般代理。依律师职业道德为当事人代理案件，维护当事人权利。一般为纠纷标的的3-5%。标的高的话也可以低于该比例。第二种：风险代理。按胜诉金额或以得到的金额的百分比支付代理费，或按减少的支付额的百分比支付代理费，比例当然高于一般代理。第三种：半风险代理。给一定的基本费用，其他的再按风险代理计算，当然就介于一般代理和风险代理的比例之间。\t得分：0.7804814\n",
      "None\n",
      "可能的答案，参考问题：起诉离婚要先找律师吗\t答案：是否聘请律师完全是您的个人自由，并不是诉讼必须聘请律师。如您认为可以当庭正确引用法律，清晰说明事实的话，就没有必要聘请律师，反之则很有必要。\t得分：0.7751432\n",
      "None\n",
      "你丫的问题是? \n",
      "怎么样找律师?\n"
     ]
    },
    {
     "name": "stderr",
     "output_type": "stream",
     "text": [
      "2020-01-02 21:31:10,285 INFO: 1 batches, avg len: 6.0\n"
     ]
    },
    {
     "name": "stdout",
     "output_type": "stream",
     "text": [
      "可能的答案，参考问题：给私人老板做工受伤?怎么赔偿,去找那个单位?\t答案：打工受伤，可以选择私了，协商解决。如果不能协商，可以选择报警，需要到当地公安局做法医鉴定，再做赔偿\t得分：0.8056358\n",
      "None\n",
      "可能的答案，参考问题：北京金石律师事务所怎么样？收费贵吗？如何找律师？\t答案：各地区有一定差异，大致如下：无财产争议案件：普通民事、经济、行政案件，不涉及财产的，根据案件性质、复杂程度、工作所需耗费时间等因素，在6###—1#####元之间协商收取；外地民事、经济、行政案件不涉及财产的，代理费不低于2####元；律师代理分为以下几种第一种：一般代理。依律师职业道德为当事人代理案件，维护当事人权利。一般为纠纷标的的3-5%。标的高的话也可以低于该比例。第二种：风险代理。按胜诉金额或以得到的金额的百分比支付代理费，或按减少的支付额的百分比支付代理费，比例当然高于一般代理。第三种：半风险代理。给一定的基本费用，其他的再按风险代理计算，当然就介于一般代理和风险代理的比例之间。\t得分：0.80096304\n",
      "None\n",
      "可能的答案，参考问题：咨询律师怎么找？\t答案：咨询可分为：现场口头咨询、当事人提供案件材料后律师提供咨询意见及法律方案；法律咨询是指提供法律知识问题的解答。由于法律的复杂性，非专业人士在遇到法律问题时，往往需要求助于律师一类的法律专业人士。律师收咨询费按计时收费，根据案件的复杂性和工作量及各地区不一样，知名度高的收费会高点，这个你要和律师协商，一般都是协商制。通常会根据问题的难易程度及回答问题所耗费的时间、精力评估收取费用。\t得分：0.7905098\n",
      "None\n",
      "可能的答案，参考问题：浠水人我想问下起诉离婚要怎么处理需要找律师吗\t答案：委托律师是公民的权利，律师费用参考：第一种：一般代理。依律师职业道德为当事人代理案件，维护当事人权利。一般为纠纷标的的3-5%。标的高的话也可以低于该比例。第二种：风险代理。按胜诉金额或以得到的金额的百分比支付代理费，或按减少的支付额的百分比支付代理费，比例当然高于一般代理。第三种：半风险代理。给一定的基本费用，其他的再按风险代理计算，当然就介于一般代理和风险代理的比例之间。\t得分：0.78774285\n",
      "None\n",
      "可能的答案，参考问题：想找个律师，哪里的律师好，怎么收费的\t答案：各地区有一定差异，大致如下：无财产争议案件：普通民事、经济、行政案件，不涉及财产的，根据案件性质、复杂程度、工作所需耗费时间等因素，在6###—1#####元之间协商收取；外地民事、经济、行政案件不涉及财产的，代理费不低于2####元；律师代理分为以下几种第一种：一般代理。依律师职业道德为当事人代理案件，维护当事人权利。一般为纠纷标的的3-5%。标的高的话也可以低于该比例。第二种：风险代理。按胜诉金额或以得到的金额的百分比支付代理费，或按减少的支付额的百分比支付代理费，比例当然高于一般代理。第三种：半风险代理。给一定的基本费用，其他的再按风险代理计算，当然就介于一般代理和风险代理的比例之间。\t得分：0.78425133\n",
      "None\n",
      "你丫的问题是? \n",
      "汽车超速怎么办?\n"
     ]
    },
    {
     "name": "stderr",
     "output_type": "stream",
     "text": [
      "2020-01-02 21:31:36,567 INFO: 1 batches, avg len: 6.0\n"
     ]
    },
    {
     "name": "stdout",
     "output_type": "stream",
     "text": [
      "可能的答案，参考问题：2018无证醉驾新规?无事故,二轮摩托车?\t答案：根据最*人*法*等颁布的《关于办理醉酒驾驶机动车刑事案件适用法律若干问题的意见》规定：一、在道路上驾驶机动车，血液酒精含量达到80毫克/100毫升以上的，属于醉酒驾驶机动车，依照刑法第一百三十三条之一第一款的规定，以危险驾驶罪定罪处罚。前款规定的“道路”“机动车”，适用道路交通安全法的有关规定。二、醉酒驾驶机动车，具有下列情形之一的，依照刑法第一百三十三条之一第一款的规定，从重处罚：(一)造成交通事故且负事故全部或者主要责任，或者造成交通事故后逃逸，尚未构成其他犯罪的;(二)血液酒精含量达到200毫克/100毫升以上的;(三)在*速公路、城市快速路上驾驶的;(四)驾驶载有乘客的营运机动车的;(五)有严重超员、超载或者超速驾驶，无驾驶资格驾驶机动车，使用伪造或者变造的机动车牌证等严重违反道路交通安全法的行为的;(六)逃避公安机关依法检查，或者拒绝、阻碍公安机关依法检查尚未构成其他犯罪的;(七)曾因酒后驾驶机动车受过行政处罚或者刑事追究的;(八)其他可以从重处罚的情形。三、醉酒驾驶机动车，以暴力、威胁方法阻碍公安机关依法检查，又构成妨害公务罪等其他犯罪的，依照数罪并罚的规定处罚。四、对醉酒驾驶机动车的被告人判处罚金，应当根据被告人的醉酒程度、是否造成实际损害、认罪悔罪态度等情况，确定与主刑相适应的罚金数额。五、公安机关在查处醉酒驾驶机动车的犯罪嫌疑人时，对查获经过、呼气酒精含量检验和抽取血样过程应当制作记录;有条件的，应当拍照、录音或者录像;有证人的，应当收集证人证言。六、血液酒精含量检验鉴定意见是认定犯罪嫌疑人是否醉酒的依据。犯罪嫌疑人经呼气酒精含量检验达到本意见第一条规定的醉酒标准，在抽取血样之前脱逃的，可以以呼气酒精含量检验结果作为认定其醉酒的依据。犯罪嫌疑人在公安机关依法检查时，为逃避法律追究，在呼气酒精含量检验或者抽取血样前又饮酒，经检验其血液酒精含量达到本意见第一条规定的醉酒标准的，应当认定为醉酒。七、办理醉酒驾驶机动车刑事案件，应当严格执行刑事诉讼法的有关规定，切实保障犯罪嫌疑人、被告人的诉讼权利，在法定诉讼期限内及时侦查、起诉、审判。对醉酒驾驶机动车的犯罪嫌疑人、被告人，根据案件情况，可以拘留或者取保候审。对符合取保候审条件，但犯罪嫌疑人、被告人不能提出保证人，也不交纳保证金的，可以监视居住。对违反取保候审、监视居住规定的犯罪嫌疑人、被告人，情节严重的，可以予以逮捕。\t得分：0.77707434\n",
      "None\n",
      "可能的答案，参考问题：汽车超速百分之十怎么处理\t答案：机动车超过规定时速10%以内，暂不处罚，给与警告。普通车辆高速公路外罚款扣分如下：1、超速处罚超过规定时速10%以内，暂不处罚；2、超过规定时速10%以上未达20%的，处以50元罚款，记3分；3、超过规定时速20%以上未达30%的，处以50元罚款，记6分；4、超过规定时速20%以上未达30%的，处以200元罚款，记6分；5、超过规定时速50%以上未达70%的，处以1000元罚款，记12分，可以并处吊销驾驶证；6、超过规定时速70%的，处以2000元罚款，记12分，可以并处吊销驾驶证。其中在限速低于60公里的道路上超速未达50%的，处警告。\t得分：0.76723135\n",
      "None\n",
      "可能的答案，参考问题：货车正常行驶行电动车横穿马路致人死亡会吊销驾照和判刑吗?\t答案：建议及时报警，有交警划分责任，根据交通事故认定书解决的。\t得分：0.7556498\n",
      "None\n",
      "可能的答案，参考问题：机动车无证驾驶怎么处罚\t答案：无证驾驶可分为以下几种情形（有其中之一的均可认定为无证驾驶）：(1)机动车驾驶人在未经过专门的驾驶员培训学校的驾驶技能训练与考试，进而取得机动车驾驶证的情况下，驾驶机动车的，为无证驾驶(2)驾驶人驾驶的机动车车型超出驾驶证核定的准驾车型的范围的(可参考下面的“准驾车型及代号”表格进行对照)，作无证驾驶处理（比如只持有C照的人开B照的车，或只持B照的人开A照的车等等）(3)驾驶人未随身携带与所驾车型相符的机动车驾驶证的，应视为无证驾驶(4)使用伪造、变造驾驶证或其他非法途径获取的驾驶证，或过期超过一年而被注销，或被暂扣、吊销或撤消的，均视为无证驾驶(5)驾驶人的年龄或健康状况不符合驾驶条件的(多指实际年龄超出所驾车型的最大年龄限制，如年龄不足按照非法获取机动车驾驶证处理，归类到(4)的情况)(6)持军队、武装警察部队驾驶证驾驶民用机动车的(有特殊许可证明的除外)(7)持境外机动车驾驶证在中*驾驶的处罚(1)机动车驾驶人将机动车交由未取得机动车驾驶证或者机动车驾驶证被吊销、暂扣的人驾驶的，扣留机动车驾驶证，可并处吊销机动车驾驶证(2)未取得机动车驾驶证、机动车驾驶证被吊销或暂扣期间驾驶机动车的，或将机动车交由未取得机动车驾驶证或者机动车驾驶证被吊销、暂扣的人驾驶的，由公安机关交通管理部门处200元以上2000元以下的罚款，可并处拘留15天的处罚(3)特别声明：对于未随身携带机动车驾驶证的，无论驾驶人在行驶过程中违法与否，均不得继续驾驶该车辆。公安机关交通管理部门应当扣留机动车，通知驾驶人提供驾驶证。根据所提供驾驶证的不同情形分别进行处理。a)如若提供的驾驶证真实、合法并且在驾驶时无任何违法行为的，给予警告或20-200元的罚款，及时退还机动车；b)如若提供的驾驶证真实、合法但在时有违法行为的，根据其违法的情况和未随身携带驾驶证一并予以处罚，并及时退还机动车；c)如驾驶人不能提供真实、合法的机动车驾驶证，视为无证驾驶，可按照(1)、(2)的情形处理。对于没车又借到车出了车祸的按犯罪处理\t得分：0.74722606\n",
      "None\n",
      "可能的答案，参考问题：机动车故意遮挡车牌是违法行为吗\t答案：《机动车驾驶证申领和使用规定》：机动车驾驶人有下列违法行为之一，一次记12分：1、上道路行驶的机动车未悬挂机动车号牌的，或者故意遮挡、污损、不按规定安装机动车号牌的。2、使用伪造、变造的机动车号牌、行驶证、驾驶证、校车标牌或者使用其他机动车号牌、行驶证的。一、故意变改遮挡号牌罚多少钱根据新交通法规定，从2013年1月1日起，上道路行驶的机动车未悬挂机动车号牌的，或者故意遮挡、污损、不按规定安装机动车号牌的，一次性记12分。故意变改遮挡号牌罚款2000-5000元不等，具体看看情况。有可能上万。二、婚车遮挡车牌扣分吗按照新交通法规定，婚车故事遮挡车牌，将被进行罚款200元，驾驶证记12处罚。交通法新规定将未悬挂或不按规定安装号牌、故意遮挡污损号牌等违法行为记分由6分提高到12分。处罚规定中“故意”两字最关键。车辆遇上雨天，泥水溅到车牌上，这样情况不算故意遮挡号牌。有的车辆遭遇车祸，车牌被撞坏，未来得及修理，也不算“故意”。但是如婚车在号牌处贴上“百年好合”等字样，或安装个性化装饰遮挡号牌的字母数字等，就算故意遮挡号牌行为。三、被雪遮挡会不会被处罚罚款200元，驾驶证记12处罚。按照道路交通安全法，机动车上道行驶时应保持号牌清晰、完整，不得故意遮挡、污损。如有积雪覆盖应及时清理。否则将进行罚款200元，驾驶证记12处罚。\t得分：0.74665207\n",
      "None\n"
     ]
    },
    {
     "ename": "KeyboardInterrupt",
     "evalue": "",
     "output_type": "error",
     "traceback": [
      "\u001b[0;31m---------------------------------------------------------------------------\u001b[0m",
      "\u001b[0;31mKeyboardInterrupt\u001b[0m                         Traceback (most recent call last)",
      "\u001b[0;32m~/anaconda3/envs/my_allennlp/lib/python3.7/site-packages/ipykernel/kernelbase.py\u001b[0m in \u001b[0;36m_input_request\u001b[0;34m(self, prompt, ident, parent, password)\u001b[0m\n\u001b[1;32m    883\u001b[0m             \u001b[0;32mtry\u001b[0m\u001b[0;34m:\u001b[0m\u001b[0;34m\u001b[0m\u001b[0;34m\u001b[0m\u001b[0m\n\u001b[0;32m--> 884\u001b[0;31m                 \u001b[0mident\u001b[0m\u001b[0;34m,\u001b[0m \u001b[0mreply\u001b[0m \u001b[0;34m=\u001b[0m \u001b[0mself\u001b[0m\u001b[0;34m.\u001b[0m\u001b[0msession\u001b[0m\u001b[0;34m.\u001b[0m\u001b[0mrecv\u001b[0m\u001b[0;34m(\u001b[0m\u001b[0mself\u001b[0m\u001b[0;34m.\u001b[0m\u001b[0mstdin_socket\u001b[0m\u001b[0;34m,\u001b[0m \u001b[0;36m0\u001b[0m\u001b[0;34m)\u001b[0m\u001b[0;34m\u001b[0m\u001b[0;34m\u001b[0m\u001b[0m\n\u001b[0m\u001b[1;32m    885\u001b[0m             \u001b[0;32mexcept\u001b[0m \u001b[0mException\u001b[0m\u001b[0;34m:\u001b[0m\u001b[0;34m\u001b[0m\u001b[0;34m\u001b[0m\u001b[0m\n",
      "\u001b[0;32m~/anaconda3/envs/my_allennlp/lib/python3.7/site-packages/jupyter_client/session.py\u001b[0m in \u001b[0;36mrecv\u001b[0;34m(self, socket, mode, content, copy)\u001b[0m\n\u001b[1;32m    802\u001b[0m         \u001b[0;32mtry\u001b[0m\u001b[0;34m:\u001b[0m\u001b[0;34m\u001b[0m\u001b[0;34m\u001b[0m\u001b[0m\n\u001b[0;32m--> 803\u001b[0;31m             \u001b[0mmsg_list\u001b[0m \u001b[0;34m=\u001b[0m \u001b[0msocket\u001b[0m\u001b[0;34m.\u001b[0m\u001b[0mrecv_multipart\u001b[0m\u001b[0;34m(\u001b[0m\u001b[0mmode\u001b[0m\u001b[0;34m,\u001b[0m \u001b[0mcopy\u001b[0m\u001b[0;34m=\u001b[0m\u001b[0mcopy\u001b[0m\u001b[0;34m)\u001b[0m\u001b[0;34m\u001b[0m\u001b[0;34m\u001b[0m\u001b[0m\n\u001b[0m\u001b[1;32m    804\u001b[0m         \u001b[0;32mexcept\u001b[0m \u001b[0mzmq\u001b[0m\u001b[0;34m.\u001b[0m\u001b[0mZMQError\u001b[0m \u001b[0;32mas\u001b[0m \u001b[0me\u001b[0m\u001b[0;34m:\u001b[0m\u001b[0;34m\u001b[0m\u001b[0;34m\u001b[0m\u001b[0m\n",
      "\u001b[0;32m~/anaconda3/envs/my_allennlp/lib/python3.7/site-packages/zmq/sugar/socket.py\u001b[0m in \u001b[0;36mrecv_multipart\u001b[0;34m(self, flags, copy, track)\u001b[0m\n\u001b[1;32m    474\u001b[0m         \"\"\"\n\u001b[0;32m--> 475\u001b[0;31m         \u001b[0mparts\u001b[0m \u001b[0;34m=\u001b[0m \u001b[0;34m[\u001b[0m\u001b[0mself\u001b[0m\u001b[0;34m.\u001b[0m\u001b[0mrecv\u001b[0m\u001b[0;34m(\u001b[0m\u001b[0mflags\u001b[0m\u001b[0;34m,\u001b[0m \u001b[0mcopy\u001b[0m\u001b[0;34m=\u001b[0m\u001b[0mcopy\u001b[0m\u001b[0;34m,\u001b[0m \u001b[0mtrack\u001b[0m\u001b[0;34m=\u001b[0m\u001b[0mtrack\u001b[0m\u001b[0;34m)\u001b[0m\u001b[0;34m]\u001b[0m\u001b[0;34m\u001b[0m\u001b[0;34m\u001b[0m\u001b[0m\n\u001b[0m\u001b[1;32m    476\u001b[0m         \u001b[0;31m# have first part already, only loop while more to receive\u001b[0m\u001b[0;34m\u001b[0m\u001b[0;34m\u001b[0m\u001b[0;34m\u001b[0m\u001b[0m\n",
      "\u001b[0;32mzmq/backend/cython/socket.pyx\u001b[0m in \u001b[0;36mzmq.backend.cython.socket.Socket.recv\u001b[0;34m()\u001b[0m\n",
      "\u001b[0;32mzmq/backend/cython/socket.pyx\u001b[0m in \u001b[0;36mzmq.backend.cython.socket.Socket.recv\u001b[0;34m()\u001b[0m\n",
      "\u001b[0;32mzmq/backend/cython/socket.pyx\u001b[0m in \u001b[0;36mzmq.backend.cython.socket._recv_copy\u001b[0;34m()\u001b[0m\n",
      "\u001b[0;32m~/anaconda3/envs/my_allennlp/lib/python3.7/site-packages/zmq/backend/cython/checkrc.pxd\u001b[0m in \u001b[0;36mzmq.backend.cython.checkrc._check_rc\u001b[0;34m()\u001b[0m\n",
      "\u001b[0;31mKeyboardInterrupt\u001b[0m: ",
      "\nDuring handling of the above exception, another exception occurred:\n",
      "\u001b[0;31mKeyboardInterrupt\u001b[0m                         Traceback (most recent call last)",
      "\u001b[0;32m<ipython-input-8-263240bbee7e>\u001b[0m in \u001b[0;36m<module>\u001b[0;34m\u001b[0m\n\u001b[0;32m----> 1\u001b[0;31m \u001b[0mmain\u001b[0m\u001b[0;34m(\u001b[0m\u001b[0;34m)\u001b[0m\u001b[0;34m\u001b[0m\u001b[0;34m\u001b[0m\u001b[0m\n\u001b[0m",
      "\u001b[0;32m<ipython-input-7-3326f88eaccd>\u001b[0m in \u001b[0;36mmain\u001b[0;34m()\u001b[0m\n\u001b[1;32m     29\u001b[0m \u001b[0;34m\u001b[0m\u001b[0m\n\u001b[1;32m     30\u001b[0m     \u001b[0;32mwhile\u001b[0m \u001b[0;32mTrue\u001b[0m\u001b[0;34m:\u001b[0m\u001b[0;34m\u001b[0m\u001b[0;34m\u001b[0m\u001b[0m\n\u001b[0;32m---> 31\u001b[0;31m         \u001b[0mtitle\u001b[0m\u001b[0;34m=\u001b[0m\u001b[0minput\u001b[0m\u001b[0;34m(\u001b[0m\u001b[0;34m\"你丫的问题是? \\n\"\u001b[0m\u001b[0;34m)\u001b[0m\u001b[0;34m\u001b[0m\u001b[0;34m\u001b[0m\u001b[0m\n\u001b[0m\u001b[1;32m     32\u001b[0m         \u001b[0;32mif\u001b[0m \u001b[0mlen\u001b[0m\u001b[0;34m(\u001b[0m\u001b[0mtitle\u001b[0m\u001b[0;34m.\u001b[0m\u001b[0mstrip\u001b[0m\u001b[0;34m(\u001b[0m\u001b[0;34m)\u001b[0m\u001b[0;34m)\u001b[0m\u001b[0;34m==\u001b[0m\u001b[0;36m0\u001b[0m\u001b[0;34m:\u001b[0m\u001b[0;34m\u001b[0m\u001b[0;34m\u001b[0m\u001b[0m\n\u001b[1;32m     33\u001b[0m             \u001b[0;32mcontinue\u001b[0m\u001b[0;34m\u001b[0m\u001b[0;34m\u001b[0m\u001b[0m\n",
      "\u001b[0;32m~/anaconda3/envs/my_allennlp/lib/python3.7/site-packages/ipykernel/kernelbase.py\u001b[0m in \u001b[0;36mraw_input\u001b[0;34m(self, prompt)\u001b[0m\n\u001b[1;32m    857\u001b[0m             \u001b[0mself\u001b[0m\u001b[0;34m.\u001b[0m\u001b[0m_parent_ident\u001b[0m\u001b[0;34m,\u001b[0m\u001b[0;34m\u001b[0m\u001b[0;34m\u001b[0m\u001b[0m\n\u001b[1;32m    858\u001b[0m             \u001b[0mself\u001b[0m\u001b[0;34m.\u001b[0m\u001b[0m_parent_header\u001b[0m\u001b[0;34m,\u001b[0m\u001b[0;34m\u001b[0m\u001b[0;34m\u001b[0m\u001b[0m\n\u001b[0;32m--> 859\u001b[0;31m             \u001b[0mpassword\u001b[0m\u001b[0;34m=\u001b[0m\u001b[0;32mFalse\u001b[0m\u001b[0;34m,\u001b[0m\u001b[0;34m\u001b[0m\u001b[0;34m\u001b[0m\u001b[0m\n\u001b[0m\u001b[1;32m    860\u001b[0m         )\n\u001b[1;32m    861\u001b[0m \u001b[0;34m\u001b[0m\u001b[0m\n",
      "\u001b[0;32m~/anaconda3/envs/my_allennlp/lib/python3.7/site-packages/ipykernel/kernelbase.py\u001b[0m in \u001b[0;36m_input_request\u001b[0;34m(self, prompt, ident, parent, password)\u001b[0m\n\u001b[1;32m    887\u001b[0m             \u001b[0;32mexcept\u001b[0m \u001b[0mKeyboardInterrupt\u001b[0m\u001b[0;34m:\u001b[0m\u001b[0;34m\u001b[0m\u001b[0;34m\u001b[0m\u001b[0m\n\u001b[1;32m    888\u001b[0m                 \u001b[0;31m# re-raise KeyboardInterrupt, to truncate traceback\u001b[0m\u001b[0;34m\u001b[0m\u001b[0;34m\u001b[0m\u001b[0;34m\u001b[0m\u001b[0m\n\u001b[0;32m--> 889\u001b[0;31m                 \u001b[0;32mraise\u001b[0m \u001b[0mKeyboardInterrupt\u001b[0m\u001b[0;34m\u001b[0m\u001b[0;34m\u001b[0m\u001b[0m\n\u001b[0m\u001b[1;32m    890\u001b[0m             \u001b[0;32melse\u001b[0m\u001b[0;34m:\u001b[0m\u001b[0;34m\u001b[0m\u001b[0;34m\u001b[0m\u001b[0m\n\u001b[1;32m    891\u001b[0m                 \u001b[0;32mbreak\u001b[0m\u001b[0;34m\u001b[0m\u001b[0;34m\u001b[0m\u001b[0m\n",
      "\u001b[0;31mKeyboardInterrupt\u001b[0m: "
     ]
    }
   ],
   "source": [
    "main()"
   ]
  },
  {
   "cell_type": "code",
   "execution_count": 54,
   "metadata": {},
   "outputs": [
    {
     "data": {
      "text/plain": [
       "array([[0.99258333, 0.61178435]])"
      ]
     },
     "execution_count": 54,
     "metadata": {},
     "output_type": "execute_result"
    }
   ],
   "source": []
  },
  {
   "cell_type": "code",
   "execution_count": null,
   "metadata": {},
   "outputs": [],
   "source": []
  }
 ],
 "metadata": {
  "kernelspec": {
   "display_name": "Python 3",
   "language": "python",
   "name": "python3"
  },
  "language_info": {
   "codemirror_mode": {
    "name": "ipython",
    "version": 3
   },
   "file_extension": ".py",
   "mimetype": "text/x-python",
   "name": "python",
   "nbconvert_exporter": "python",
   "pygments_lexer": "ipython3",
   "version": "3.7.5"
  }
 },
 "nbformat": 4,
 "nbformat_minor": 2
}
