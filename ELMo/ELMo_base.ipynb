{
 "cells": [
  {
   "cell_type": "code",
   "execution_count": 1,
   "metadata": {},
   "outputs": [],
   "source": [
    "import argparse\n",
    "from collections import Counter\n",
    "import code\n",
    "import os\n",
    "import pickle\n",
    "from sklearn.metrics.pairwise import cosine_similarity"
   ]
  },
  {
   "cell_type": "code",
   "execution_count": 2,
   "metadata": {},
   "outputs": [],
   "source": [
    "import torch\n",
    "import torch.nn as nn\n",
    "import torch.nn.functional as F\n",
    "from torch.utils.data import DataLoader"
   ]
  },
  {
   "cell_type": "code",
   "execution_count": 3,
   "metadata": {},
   "outputs": [],
   "source": [
    "import numpy as np\n",
    "import pandas as pd\n",
    "import pkuseg\n",
    "from elmoformanylangs import Embedder"
   ]
  },
  {
   "cell_type": "code",
   "execution_count": 4,
   "metadata": {},
   "outputs": [
    {
     "name": "stderr",
     "output_type": "stream",
     "text": [
      "2020-01-20 16:39:47,146 INFO: char embedding size: 6169\n",
      "2020-01-20 16:39:47,638 INFO: word embedding size: 71222\n",
      "2020-01-20 16:39:51,295 INFO: Model(\n",
      "  (token_embedder): ConvTokenEmbedder(\n",
      "    (word_emb_layer): EmbeddingLayer(\n",
      "      (embedding): Embedding(71222, 100, padding_idx=3)\n",
      "    )\n",
      "    (char_emb_layer): EmbeddingLayer(\n",
      "      (embedding): Embedding(6169, 50, padding_idx=6166)\n",
      "    )\n",
      "    (convolutions): ModuleList(\n",
      "      (0): Conv1d(50, 32, kernel_size=(1,), stride=(1,))\n",
      "      (1): Conv1d(50, 32, kernel_size=(2,), stride=(1,))\n",
      "      (2): Conv1d(50, 64, kernel_size=(3,), stride=(1,))\n",
      "      (3): Conv1d(50, 128, kernel_size=(4,), stride=(1,))\n",
      "      (4): Conv1d(50, 256, kernel_size=(5,), stride=(1,))\n",
      "      (5): Conv1d(50, 512, kernel_size=(6,), stride=(1,))\n",
      "      (6): Conv1d(50, 1024, kernel_size=(7,), stride=(1,))\n",
      "    )\n",
      "    (highways): Highway(\n",
      "      (_layers): ModuleList(\n",
      "        (0): Linear(in_features=2048, out_features=4096, bias=True)\n",
      "        (1): Linear(in_features=2048, out_features=4096, bias=True)\n",
      "      )\n",
      "    )\n",
      "    (projection): Linear(in_features=2148, out_features=512, bias=True)\n",
      "  )\n",
      "  (encoder): ElmobiLm(\n",
      "    (forward_layer_0): LstmCellWithProjection(\n",
      "      (input_linearity): Linear(in_features=512, out_features=16384, bias=False)\n",
      "      (state_linearity): Linear(in_features=512, out_features=16384, bias=True)\n",
      "      (state_projection): Linear(in_features=4096, out_features=512, bias=False)\n",
      "    )\n",
      "    (backward_layer_0): LstmCellWithProjection(\n",
      "      (input_linearity): Linear(in_features=512, out_features=16384, bias=False)\n",
      "      (state_linearity): Linear(in_features=512, out_features=16384, bias=True)\n",
      "      (state_projection): Linear(in_features=4096, out_features=512, bias=False)\n",
      "    )\n",
      "    (forward_layer_1): LstmCellWithProjection(\n",
      "      (input_linearity): Linear(in_features=512, out_features=16384, bias=False)\n",
      "      (state_linearity): Linear(in_features=512, out_features=16384, bias=True)\n",
      "      (state_projection): Linear(in_features=4096, out_features=512, bias=False)\n",
      "    )\n",
      "    (backward_layer_1): LstmCellWithProjection(\n",
      "      (input_linearity): Linear(in_features=512, out_features=16384, bias=False)\n",
      "      (state_linearity): Linear(in_features=512, out_features=16384, bias=True)\n",
      "      (state_projection): Linear(in_features=4096, out_features=512, bias=False)\n",
      "    )\n",
      "  )\n",
      ")\n"
     ]
    }
   ],
   "source": [
    "e=Embedder('./zhs.model')\n",
    "seg=pkuseg.pkuseg()\n"
   ]
  },
  {
   "cell_type": "code",
   "execution_count": 5,
   "metadata": {},
   "outputs": [
    {
     "name": "stdout",
     "output_type": "stream",
     "text": [
      "[['今天', '天气', '真', '好', '啊'], ['潮水', '退', '了', '就', '知道', '谁', '没', '穿', '裤子']]\n"
     ]
    }
   ],
   "source": [
    "sents = [\"今天天气真好啊\", \"潮水退了就知道谁没穿裤子\"]\n",
    "sents = [seg.cut(sent) for sent in sents]\n",
    "print(sents)"
   ]
  },
  {
   "cell_type": "code",
   "execution_count": 6,
   "metadata": {},
   "outputs": [
    {
     "name": "stderr",
     "output_type": "stream",
     "text": [
      "2020-01-14 02:05:12,001 INFO: 1 batches, avg len: 9.0\n"
     ]
    }
   ],
   "source": [
    "embeddings = e.sents2elmo(sents)"
   ]
  },
  {
   "cell_type": "code",
   "execution_count": 20,
   "metadata": {},
   "outputs": [
    {
     "data": {
      "text/plain": [
       "2"
      ]
     },
     "execution_count": 20,
     "metadata": {},
     "output_type": "execute_result"
    }
   ],
   "source": [
    "len(embeddings)  "
   ]
  },
  {
   "cell_type": "code",
   "execution_count": 21,
   "metadata": {},
   "outputs": [
    {
     "data": {
      "text/plain": [
       "(9, 1024)"
      ]
     },
     "execution_count": 21,
     "metadata": {},
     "output_type": "execute_result"
    }
   ],
   "source": [
    "embeddings[1].shape  # 句子2里有9个词,每个词是1024维的向量"
   ]
  },
  {
   "cell_type": "code",
   "execution_count": 24,
   "metadata": {},
   "outputs": [
    {
     "name": "stdout",
     "output_type": "stream",
     "text": [
      "1024\n"
     ]
    }
   ],
   "source": [
    "candidate=[np.mean(embedding,0) for embedding in embeddings]\n",
    "print(len(candidate[0]))"
   ]
  },
  {
   "cell_type": "code",
   "execution_count": 7,
   "metadata": {},
   "outputs": [],
   "source": [
    "def main():\n",
    "    # for bash command\n",
    "    #parser=argparse.ArgumentParser()\n",
    "    #parser.add_argument(\"--train_file\",default=None,type=str,required=True,\n",
    "    #                   help=\"my train file\")\n",
    "    #parser.add_argument(\"--batch_size\",default=64,type=int,required=False,\n",
    "    #                   help=\"my batch size\")\n",
    "    #args=parser.parse_args()\n",
    "    \n",
    "    if not os.path.exists(\"embeddings.pkl\"):\n",
    "        # train_df = pd.read_csv(args.train_file)  for bash command\n",
    "        train_df=pd.read_csv(\"/Users/valleria_ruka/Desktop/FAQ/lawzhidao_filter.csv\")\n",
    "        candidates=train_df[train_df[\"is_best\"]==1][[\"title\",\"reply\"]]\n",
    "        candidate_title=candidates[\"title\"].tolist()\n",
    "        candidate_reply=candidates[\"reply\"].tolist()\n",
    "        \n",
    "        titles=[seg.cut(title) for title in candidates[\"title\"]]\n",
    "        embeddings=e.sents2elmo(titles)\n",
    "        \n",
    "        #可以不求平均,直接embedding送入\n",
    "        # 这里是做了平均, \n",
    "        # size:  n个句子*每个句子里的单词*1024, 平均后 n个句子*1024\n",
    "        candidate_embeddings=[np.mean(embedding,0) for embedding in embeddings]\n",
    "        \n",
    "        with open(\"embeddings.pkl\",\"wb\") as fout:\n",
    "            # pickle.dump([candidate_title,candidate_reply,embeddings],fout)\n",
    "            pickle.dump([candidate_title,candidate_reply,candidate_embeddings],fout)\n",
    "    \n",
    "    else:\n",
    "         with open(\"embeddings.pkl\",\"rb\") as fin:\n",
    "                #不求平均\n",
    "                # candidate_title,candidate_reply,embeddings=pickle.load(fin)\n",
    "                candidate_title,candidate_reply,candidate_embeddings=pickle.load(fin)\n",
    "            \n",
    "    \n",
    "    while True:\n",
    "        title=input(\"你的问题是? \\n\")\n",
    "        if len(title.strip())==0:\n",
    "            continue\n",
    "        \n",
    "        title=[seg.cut(title.strip())]\n",
    "        title_embedding=[np.mean(e.sents2elmo(title)[0],0)]\n",
    "        \n",
    "        #不求平均\n",
    "        # scores=cosine_similarity(title_embedding,embeddings)[0]\n",
    "        scores=cosine_similarity(title_embedding,candidate_embeddings)[0]\n",
    "        top5_indices=scores.argsort()[-5:][::-1]\n",
    "        for index in top5_indices:\n",
    "            print(print(\"可能的答案，参考问题：\" + candidate_title[index] + \n",
    "                        \"\\t答案：\" + candidate_reply[index] + \"\\t得分：\" + str(scores[index])))\n",
    "        "
   ]
  },
  {
   "cell_type": "code",
   "execution_count": 8,
   "metadata": {},
   "outputs": [
    {
     "name": "stdout",
     "output_type": "stream",
     "text": [
      "你的问题是? \n",
      "怎样找律师\n"
     ]
    },
    {
     "name": "stderr",
     "output_type": "stream",
     "text": [
      "2020-01-14 17:24:54,975 INFO: 1 batches, avg len: 5.0\n"
     ]
    },
    {
     "name": "stdout",
     "output_type": "stream",
     "text": [
      "可能的答案，参考问题：做伤残鉴定一定要请律师吗\t答案：不是伤残鉴定可以自行委托司法鉴定机构或者通过法院委托司法鉴定机构；律师只是受当事人委托代理办理伤残鉴定手续。参考伤残鉴定办理手续：一、需要携带证件：本人身份证、x光片、病历资料，工伤保险基金，治疗的病历资料；委托办理的需要委托书。二、具体手续：向法院或公安交通管理机关申请之后，获得批准后，持鉴定委托书申请人携带医院的诊断证明及出院证明及相关检查报告资料等相关材料前往批准机关指定的医疗鉴定机构进行鉴定。法医应于评定材料齐备后20日内做出《伤残评定书》。\t得分：0.61108565\n",
      "None\n",
      "可能的答案，参考问题：如何咨询律师\t答案：咨询可分为：现场口头咨询、当事人提供案件材料后律师提供咨询意见及法律方案；法律咨询是指提供法律知识问题的解答。由于法律的复杂性，非专业人士在遇到法律问题时，往往需要求助于律师一类的法律专业人士。律师收咨询费按计时收费，根据案件的复杂性和工作量及各地区不一样，知名度高的收费会高点，这个你要和律师协商，一般都是协商制。通常会根据问题的难易程度及回答问题所耗费的时间、精力评估收取费用。\t得分：0.6047452\n",
      "None\n",
      "可能的答案，参考问题：我想找律师咨询一些问题.怎样联系到律师\t答案：咨询可分为：现场口头咨询、当事人提供案件材料后律师提供咨询意见及法律方案；法律咨询是指提供法律知识问题的解答。由于法律的复杂性，非专业人士在遇到法律问题时，往往需要求助于律师一类的法律专业人士。律师收咨询费按计时收费，根据案件的复杂性和工作量及各地区不一样，知名度高的收费会高点，这个你要和律师协商，一般都是协商制。通常会根据问题的难易程度及回答问题所耗费的时间、精力评估收取费用。\t得分：0.5949593\n",
      "None\n",
      "可能的答案，参考问题：想找个律师，哪里的律师好，怎么收费的\t答案：各地区有一定差异，大致如下：无财产争议案件：普通民事、经济、行政案件，不涉及财产的，根据案件性质、复杂程度、工作所需耗费时间等因素，在6###—1#####元之间协商收取；外地民事、经济、行政案件不涉及财产的，代理费不低于2####元；律师代理分为以下几种第一种：一般代理。依律师职业道德为当事人代理案件，维护当事人权利。一般为纠纷标的的3-5%。标的高的话也可以低于该比例。第二种：风险代理。按胜诉金额或以得到的金额的百分比支付代理费，或按减少的支付额的百分比支付代理费，比例当然高于一般代理。第三种：半风险代理。给一定的基本费用，其他的再按风险代理计算，当然就介于一般代理和风险代理的比例之间。\t得分：0.5812131\n",
      "None\n",
      "可能的答案，参考问题：暂住证过期了可以去派出所打印吗\t答案：暂住证过期了不可以续证。2016年开始已经取消暂住证办理而改为居住证办理的，因此公民暂住证到期以后，就需要重新提供身份证，照片等资料申请办理新的居住证。\t得分：0.57760423\n",
      "None\n",
      "你的问题是? \n",
      "怎么谈恋爱?\n"
     ]
    },
    {
     "name": "stderr",
     "output_type": "stream",
     "text": [
      "2020-01-14 17:25:00,890 INFO: 1 batches, avg len: 6.0\n"
     ]
    },
    {
     "name": "stdout",
     "output_type": "stream",
     "text": [
      "可能的答案，参考问题：给私人老板做工受伤?怎么赔偿,去找那个单位?\t答案：打工受伤，可以选择私了，协商解决。如果不能协商，可以选择报警，需要到当地公安局做法医鉴定，再做赔偿\t得分：0.73908746\n",
      "None\n",
      "可能的答案，参考问题：想工伤怎么算\t答案：工伤赔偿的项目(一)治(医)疗费。治疗工伤所需费用必须符合工伤*险诊疗项目目录、工伤*险药品目录、工伤*险住院服*标准。(二)住院伙食补助费。职工住院治疗工伤的，由所在单位按照本单位因公出差伙食补助标准的70%发给住院伙食补助费。(三)外地就医交通费、食宿费。经医疗机构出具证明，报经办机构同意，工伤职工到统筹地区以外就医的，所需交通、食宿费用由所在单位按照本单位职工因公出差标准报销。(四)康复治疗费。工伤职工到签订服*协议的医疗机构进*康复性治疗的费用，符合工伤*险诊疗项目目录、工伤*险药品目录、工伤*险住院服*标准的本条第三款规定的，从工伤*险基金支付。(五)辅助器具费。工伤职工因日常生活或者就业需要，经*动能力鉴定委员会确认，可以安装假肢、矫形器、假眼、假牙和配置轮椅等辅助器具，所需费用按照国家规定的标准从工伤*险基金支付。(六)停工留薪期工资。职工因工作遭受事故伤害或者患职业病需要暂停工作接受工伤医疗的，在停工留薪期内，原工资福利待遇不变，由所在单位按月支付。(七)生活护理费。生活不能自理的工伤职工在停工留薪期需要护理的，由所在单位负责。工伤职工已经评定伤残等级并经*动能力鉴定委员会确认需要生活护理的，从工伤*险基金按月支付生活护理费。生活护理费按照生活完全不能自理、生活大*分不能自理或者生活*分不能自理3个不同等级支付，其标准分别为统筹地区上年度职工月平均工资的50%、40%或者30%。(八)一次性伤残补助金。一次性伤残补助金赔偿标准是根据工伤职员伤残等级确定，不同等级，赔偿标准不同。具体如下：一级伤残为27个月的本人工资，二级伤残为25个月的本人工资，三级伤残为23个月的本人工资，四级伤残为21个月的本人工资，五级伤残为18个月的本人工资，六级伤残为16个月的本人工资，七级伤残为13个月的本人工资，八级伤残为11个月的本人工资，九级伤残为9个月的本人工资，十级伤残为7个月的本人工资。(九)伤残津贴。职工因工致残被鉴定为一级至四级伤残的，从工伤*险基金按伤残等级支付一次性伤残补助金，标准为：一级伤残为24个月的本人工资，二级伤残为22个月的本人工资，三级伤残为20个月的本人工资，四级伤残为18个月的本人工资。职工因工致残被鉴定为五级、六级伤残的，*留与用人单位的*动关系，由用人单位安排适当工作。难以安排工作的，由用人单位按月发给伤残津贴，标准为：五级伤残为本人工资的70%，六级伤残为本人工资的60%。(十)一次性伤残就业补助金和一次性工伤医疗补助金。职工因工致残被鉴定为五级、六级伤残的，经工伤职工本人提出，该职工可以与用人单位解除或者终止*动关系，由用人单位支付一次性工伤医疗补助金和伤残就业补助金;职工因工致残被鉴定为七级至十级伤残的，*动合同期满终止，或者职工本人提出解除*动合同的，由用人单位支付一次性工伤医疗补助金和伤残就业补助金。具体标准由省、自治区、直辖市人民政府规定。(十一)丧葬补助金。职工因工死亡丧葬补助金为6个月的统筹地区上年度职工月平均工资。(十二)供养亲属抚恤金。职工因工死亡供养亲属抚恤金按照职工本人工资的一定比例发给由因工死亡职工生前提供主要生活来源、无*动能力的亲属。标准为：配偶每月40%，其他亲属每人每月30%，孤寡老人或者孤儿每人每月在上述标准的基础上增加10%。核定的各供养亲属的抚恤金之和不应高于因工死亡职工生前的工资。供养亲属的具体范围由国*院*动*障*政*门规定。(十三)一次性工亡补助金。一次性工亡补助金标准为48个月至60个月的统筹地区上年度职工月平均工资。具体标准由统筹地区的人民政府根据当地经济、社会发展状况规定，报省、自治区、直辖市人民政府备案。\t得分：0.7306305\n",
      "None\n",
      "可能的答案，参考问题：不想过了怎样能说服对方离婚呢\t答案：协商不成的可以提起离婚诉讼。离婚诉讼是指夫妻中的一方基于法定离婚原因，向人民法院提起的、由人民法院对婚姻关系的维持与否进行判决的诉讼。离婚诉讼的手续（过程）如下：1、到人民法院向法院提起诉讼申请。一般是到立案大厅，由立案大厅进行审查，对于符合立案条件的，给予立案。如果你们双方不在同地居住的，则按“原告就被告”的原则，你要到男方的所在地提出诉讼。提出离婚诉讼申请时，须提供以下证件：A、请求判定离婚的起诉书（一式三份）B、户口本C、身份证（临时身份证、户籍证明、军官证、士官证、军队文职干部证等）D、结婚证2、经立案大厅审查符合立案条件，准予立案后，由立案庭发出立案通知书，你凭立案通知书缴纳诉讼费（50元）。法院正式受理案件。3、法院的立案庭受理案件后，将案件移送民事庭，由民事庭进行审理。4、民事庭受案后，向男方发出传票，要求其在某个时间到庭应诉。同时，法院也通知你到庭参诉。5、双方到庭后，由法院进行调解（这是必经程序）。调解的结果有3种：A.经调解后双方愿意维持婚姻的，则由你撤回起诉，婚姻继续有效。B.经调解后，他同意你的离婚请求的，并且对子女及财产问题作出处理的，则由你撤回起诉，由双方到婚姻登记机关进行登记离婚。C.经调解后，你仍坚持要求离婚而他不同意的，或双方同意但对子女及财产问题的处理存有争议的。则由法院进行审理判决。6、法院通过开庭审理，作出准予离婚或不准予离婚的判决。法院以双方感情是否确已破裂作为判决离婚的法定条件。其中，《婚姻法》第32条规定了准予离婚的以下例示性的法定理由：A.重婚或有配偶者与他人同居的B、实施家庭暴力或虐待、遗弃家庭成员的C.有赌博、吸毒等恶习，屡教不改的。D.因感情不和而分居满2年的E.其他导致夫妻感情破裂的情形\t得分：0.7272543\n",
      "None\n",
      "可能的答案，参考问题：做工伤鉴定应该怎么弄，需要什么材料吗\t答案：1、《工伤保险条例》第十七条规定：职工发生事故伤害或者按照职业病防治法规定被诊断、鉴定为职业病，所在单位应当自事故伤害发生之日或者被诊断、鉴定为职业病之日起30日内，向统筹地区劳动保障行政部门提出工伤认定申请。遇有特殊情况，经报劳动保障行政部门同意，申请时限可以适当延长。用人单位未按前款规定提出工伤认定申请的，工伤职工或者其直系亲属、工会组织在事故伤害发生之日或者被诊断、鉴定为职业病之日起1年内，可以直接向用人单位所在地统筹地区劳动保障行政部门提出工伤认定申请。按照本条第一款规定应当由省级劳动保障行政部门进行工伤认定的事项，根据属地原则由用人单位所在地的设区的市级劳动保障行政部门办理。用人单位未在本条第一款规定的时限内提交工伤认定申请，在此期间发生符合本条例规定的工伤待遇等有关费用由该用人单位负担。2、《工伤保险条例》第十八条规定：提出工伤认定申请应当提交下列材料：（一）工伤认定申请表；（二）与用人单位存在劳动关系（包括事实劳动关系）的证明材料；（三）医疗诊断证明或者职业病诊断证明书（或者职业病诊断鉴定书）。工伤认定申请表应当包括事故发生的时间、地点、原因以及职工伤害程度等基本情况。工伤认定申请人提供材料不完整的，劳动保障行政部门应当一次性书面告知工伤认定申请人需要补正的全部材料。申请人按照书面告知要求补正材料后，劳动保障行政部门应当受理。3、《工伤保险条例》第二十一条规定：职工发生工伤，经治疗伤情相对稳定后存在残疾、影响劳动能力的，应当进行劳动能力鉴定。根据上述法律规定：您可以自己依法申请工伤认定，认定工伤后，再依法进行劳动能力鉴定，确定伤残等级，这样，就可以依法享受工伤医疗、停工留薪、工伤伤残待遇了。\t得分：0.7247731\n",
      "None\n",
      "可能的答案，参考问题：有谁知道法律援助怎么找\t答案：一般情况下如果您申请*事、行政法律援助，应当向义务机关或义务人所在地的法律援助机构提出。具体来说：a.请求国家赔偿的，向赔偿义务机关所在地的法律援助机构提出申请;b.请求给予社会保险待遇、最低生活保障待遇或者请求发给抚恤金、救济金的，向提供社会保险待遇、最低生活保障待遇或者发给抚恤金、救济金的义务机关所在地的法律援助机构提出申请;c.请求给付赡养费、抚养费、扶养费的，向给付赡养费、抚养费、扶养费的义务人住所地的法律援助机构提出申请;d.请求支付劳动报酬的，向支付劳动报酬的义务人住所地的法律援助机构提出申请;e.主张因见义勇为行为产生的*事权益的，向被请求人住所地的法律援助机构提出申请。如果您申请刑事法律援助，应当向办理案件的公安机关、人*检**、人*法*所在地的法律援助机构提出申请。\t得分：0.72221065\n",
      "None\n",
      "你的问题是? \n",
      "怎样找律师?\n"
     ]
    },
    {
     "name": "stderr",
     "output_type": "stream",
     "text": [
      "2020-01-14 17:25:26,228 INFO: 1 batches, avg len: 6.0\n"
     ]
    },
    {
     "name": "stdout",
     "output_type": "stream",
     "text": [
      "可能的答案，参考问题：给私人老板做工受伤?怎么赔偿,去找那个单位?\t答案：打工受伤，可以选择私了，协商解决。如果不能协商，可以选择报警，需要到当地公安局做法医鉴定，再做赔偿\t得分：0.79969656\n",
      "None\n",
      "可能的答案，参考问题：咨询律师怎么找？\t答案：咨询可分为：现场口头咨询、当事人提供案件材料后律师提供咨询意见及法律方案；法律咨询是指提供法律知识问题的解答。由于法律的复杂性，非专业人士在遇到法律问题时，往往需要求助于律师一类的法律专业人士。律师收咨询费按计时收费，根据案件的复杂性和工作量及各地区不一样，知名度高的收费会高点，这个你要和律师协商，一般都是协商制。通常会根据问题的难易程度及回答问题所耗费的时间、精力评估收取费用。\t得分：0.79583985\n",
      "None\n",
      "可能的答案，参考问题：北京金石律师事务所怎么样？收费贵吗？如何找律师？\t答案：各地区有一定差异，大致如下：无财产争议案件：普通民事、经济、行政案件，不涉及财产的，根据案件性质、复杂程度、工作所需耗费时间等因素，在6###—1#####元之间协商收取；外地民事、经济、行政案件不涉及财产的，代理费不低于2####元；律师代理分为以下几种第一种：一般代理。依律师职业道德为当事人代理案件，维护当事人权利。一般为纠纷标的的3-5%。标的高的话也可以低于该比例。第二种：风险代理。按胜诉金额或以得到的金额的百分比支付代理费，或按减少的支付额的百分比支付代理费，比例当然高于一般代理。第三种：半风险代理。给一定的基本费用，其他的再按风险代理计算，当然就介于一般代理和风险代理的比例之间。\t得分：0.78619725\n",
      "None\n",
      "可能的答案，参考问题：我想找律师咨询一些问题.怎样联系到律师\t答案：咨询可分为：现场口头咨询、当事人提供案件材料后律师提供咨询意见及法律方案；法律咨询是指提供法律知识问题的解答。由于法律的复杂性，非专业人士在遇到法律问题时，往往需要求助于律师一类的法律专业人士。律师收咨询费按计时收费，根据案件的复杂性和工作量及各地区不一样，知名度高的收费会高点，这个你要和律师协商，一般都是协商制。通常会根据问题的难易程度及回答问题所耗费的时间、精力评估收取费用。\t得分：0.77493465\n",
      "None\n",
      "可能的答案，参考问题：浠水人我想问下起诉离婚要怎么处理需要找律师吗\t答案：委托律师是公民的权利，律师费用参考：第一种：一般代理。依律师职业道德为当事人代理案件，维护当事人权利。一般为纠纷标的的3-5%。标的高的话也可以低于该比例。第二种：风险代理。按胜诉金额或以得到的金额的百分比支付代理费，或按减少的支付额的百分比支付代理费，比例当然高于一般代理。第三种：半风险代理。给一定的基本费用，其他的再按风险代理计算，当然就介于一般代理和风险代理的比例之间。\t得分：0.77245235\n",
      "None\n",
      "你的问题是? \n",
      "怎么做红烧肉?\n"
     ]
    },
    {
     "name": "stderr",
     "output_type": "stream",
     "text": [
      "2020-01-14 17:26:03,022 INFO: 1 batches, avg len: 6.0\n"
     ]
    },
    {
     "name": "stdout",
     "output_type": "stream",
     "text": [
      "可能的答案，参考问题：给私人老板做工受伤?怎么赔偿,去找那个单位?\t答案：打工受伤，可以选择私了，协商解决。如果不能协商，可以选择报警，需要到当地公安局做法医鉴定，再做赔偿\t得分：0.810823\n",
      "None\n",
      "可能的答案，参考问题：做工伤鉴定应该怎么弄，需要什么材料吗\t答案：1、《工伤保险条例》第十七条规定：职工发生事故伤害或者按照职业病防治法规定被诊断、鉴定为职业病，所在单位应当自事故伤害发生之日或者被诊断、鉴定为职业病之日起30日内，向统筹地区劳动保障行政部门提出工伤认定申请。遇有特殊情况，经报劳动保障行政部门同意，申请时限可以适当延长。用人单位未按前款规定提出工伤认定申请的，工伤职工或者其直系亲属、工会组织在事故伤害发生之日或者被诊断、鉴定为职业病之日起1年内，可以直接向用人单位所在地统筹地区劳动保障行政部门提出工伤认定申请。按照本条第一款规定应当由省级劳动保障行政部门进行工伤认定的事项，根据属地原则由用人单位所在地的设区的市级劳动保障行政部门办理。用人单位未在本条第一款规定的时限内提交工伤认定申请，在此期间发生符合本条例规定的工伤待遇等有关费用由该用人单位负担。2、《工伤保险条例》第十八条规定：提出工伤认定申请应当提交下列材料：（一）工伤认定申请表；（二）与用人单位存在劳动关系（包括事实劳动关系）的证明材料；（三）医疗诊断证明或者职业病诊断证明书（或者职业病诊断鉴定书）。工伤认定申请表应当包括事故发生的时间、地点、原因以及职工伤害程度等基本情况。工伤认定申请人提供材料不完整的，劳动保障行政部门应当一次性书面告知工伤认定申请人需要补正的全部材料。申请人按照书面告知要求补正材料后，劳动保障行政部门应当受理。3、《工伤保险条例》第二十一条规定：职工发生工伤，经治疗伤情相对稳定后存在残疾、影响劳动能力的，应当进行劳动能力鉴定。根据上述法律规定：您可以自己依法申请工伤认定，认定工伤后，再依法进行劳动能力鉴定，确定伤残等级，这样，就可以依法享受工伤医疗、停工留薪、工伤伤残待遇了。\t得分：0.8042079\n",
      "None\n",
      "可能的答案，参考问题：360.借钱是真的吗?不是高利贷坑人的?\t答案：民间借贷是一种民事法律行为合法的在法律上认定的高利。贷是指超过银行同期基准利率的4倍，也就是产生法律纠纷时支持同期基准利率四倍以内的利率水平，超过银行同期基准利率的4倍，即为高利。贷，不受法律保护。因为不同期限的基准利率不同，高利，贷的法律认定还与期限相关。同期基准利率是指中央银行公布的基准利率，如一年期，基准利率为6%，4倍为24%，即超过24%为法律认定的高利，贷。就一年期来说，1####元，年利息不超过24%*1####=24##元不算高，利贷。\t得分：0.80101746\n",
      "None\n",
      "可能的答案，参考问题：欠海尔够花9500不还会怎样?催收厉害吗?\t答案：1、无力偿还会面临法院后果的，建议及债权人积极协商，争取延迟还款。债权人也会起诉你，然后申请执行你的财产的。2、有能力而拒不执行的情况下，涉嫌拒不执行判决、裁定罪《刑法》第三百一十三条【拒不执行判决、裁定罪】对人民法院的判决、裁定有能力执行而拒不执行，情节严重的，处三年以下有期徒刑、拘役或者刑罚。3、另外名下没有可供执行的财产而他又拒绝履行法院的生效判决，则会有逾期还款等负面信息记录在个人的信用报告中并被限制高消费及出入境，甚至有可能会被司法拘留。\t得分：0.78178823\n",
      "None\n",
      "可能的答案，参考问题：豆豆钱安全吗?是不是高利贷\t答案：在法律上认定的高利。贷是指超过银行同期基准利率的4倍，也就是产生法律纠纷时支持同期基准利率四倍以内的利率水平，超过银行同期基准利率的4倍，即为高利。贷，不受法律保护。因为不同期限的基准利率不同，高利，贷的法律认定还与期限相关。同期基准利率是指中央银行公布的基准利率，如一年期，基准利率为6%，4倍为24%，即超过24%为法律认定的高利，贷。就一年期来说，1####元，年利息不超过24%*1####=24##元不算高，利贷。\t得分：0.7810172\n",
      "None\n"
     ]
    },
    {
     "ename": "KeyboardInterrupt",
     "evalue": "",
     "output_type": "error",
     "traceback": [
      "\u001b[0;31m---------------------------------------------------------------------------\u001b[0m",
      "\u001b[0;31mKeyboardInterrupt\u001b[0m                         Traceback (most recent call last)",
      "\u001b[0;32m~/anaconda3/envs/my_allennlp/lib/python3.7/site-packages/ipykernel/kernelbase.py\u001b[0m in \u001b[0;36m_input_request\u001b[0;34m(self, prompt, ident, parent, password)\u001b[0m\n\u001b[1;32m    883\u001b[0m             \u001b[0;32mtry\u001b[0m\u001b[0;34m:\u001b[0m\u001b[0;34m\u001b[0m\u001b[0;34m\u001b[0m\u001b[0m\n\u001b[0;32m--> 884\u001b[0;31m                 \u001b[0mident\u001b[0m\u001b[0;34m,\u001b[0m \u001b[0mreply\u001b[0m \u001b[0;34m=\u001b[0m \u001b[0mself\u001b[0m\u001b[0;34m.\u001b[0m\u001b[0msession\u001b[0m\u001b[0;34m.\u001b[0m\u001b[0mrecv\u001b[0m\u001b[0;34m(\u001b[0m\u001b[0mself\u001b[0m\u001b[0;34m.\u001b[0m\u001b[0mstdin_socket\u001b[0m\u001b[0;34m,\u001b[0m \u001b[0;36m0\u001b[0m\u001b[0;34m)\u001b[0m\u001b[0;34m\u001b[0m\u001b[0;34m\u001b[0m\u001b[0m\n\u001b[0m\u001b[1;32m    885\u001b[0m             \u001b[0;32mexcept\u001b[0m \u001b[0mException\u001b[0m\u001b[0;34m:\u001b[0m\u001b[0;34m\u001b[0m\u001b[0;34m\u001b[0m\u001b[0m\n",
      "\u001b[0;32m~/anaconda3/envs/my_allennlp/lib/python3.7/site-packages/jupyter_client/session.py\u001b[0m in \u001b[0;36mrecv\u001b[0;34m(self, socket, mode, content, copy)\u001b[0m\n\u001b[1;32m    802\u001b[0m         \u001b[0;32mtry\u001b[0m\u001b[0;34m:\u001b[0m\u001b[0;34m\u001b[0m\u001b[0;34m\u001b[0m\u001b[0m\n\u001b[0;32m--> 803\u001b[0;31m             \u001b[0mmsg_list\u001b[0m \u001b[0;34m=\u001b[0m \u001b[0msocket\u001b[0m\u001b[0;34m.\u001b[0m\u001b[0mrecv_multipart\u001b[0m\u001b[0;34m(\u001b[0m\u001b[0mmode\u001b[0m\u001b[0;34m,\u001b[0m \u001b[0mcopy\u001b[0m\u001b[0;34m=\u001b[0m\u001b[0mcopy\u001b[0m\u001b[0;34m)\u001b[0m\u001b[0;34m\u001b[0m\u001b[0;34m\u001b[0m\u001b[0m\n\u001b[0m\u001b[1;32m    804\u001b[0m         \u001b[0;32mexcept\u001b[0m \u001b[0mzmq\u001b[0m\u001b[0;34m.\u001b[0m\u001b[0mZMQError\u001b[0m \u001b[0;32mas\u001b[0m \u001b[0me\u001b[0m\u001b[0;34m:\u001b[0m\u001b[0;34m\u001b[0m\u001b[0;34m\u001b[0m\u001b[0m\n",
      "\u001b[0;32m~/anaconda3/envs/my_allennlp/lib/python3.7/site-packages/zmq/sugar/socket.py\u001b[0m in \u001b[0;36mrecv_multipart\u001b[0;34m(self, flags, copy, track)\u001b[0m\n\u001b[1;32m    474\u001b[0m         \"\"\"\n\u001b[0;32m--> 475\u001b[0;31m         \u001b[0mparts\u001b[0m \u001b[0;34m=\u001b[0m \u001b[0;34m[\u001b[0m\u001b[0mself\u001b[0m\u001b[0;34m.\u001b[0m\u001b[0mrecv\u001b[0m\u001b[0;34m(\u001b[0m\u001b[0mflags\u001b[0m\u001b[0;34m,\u001b[0m \u001b[0mcopy\u001b[0m\u001b[0;34m=\u001b[0m\u001b[0mcopy\u001b[0m\u001b[0;34m,\u001b[0m \u001b[0mtrack\u001b[0m\u001b[0;34m=\u001b[0m\u001b[0mtrack\u001b[0m\u001b[0;34m)\u001b[0m\u001b[0;34m]\u001b[0m\u001b[0;34m\u001b[0m\u001b[0;34m\u001b[0m\u001b[0m\n\u001b[0m\u001b[1;32m    476\u001b[0m         \u001b[0;31m# have first part already, only loop while more to receive\u001b[0m\u001b[0;34m\u001b[0m\u001b[0;34m\u001b[0m\u001b[0;34m\u001b[0m\u001b[0m\n",
      "\u001b[0;32mzmq/backend/cython/socket.pyx\u001b[0m in \u001b[0;36mzmq.backend.cython.socket.Socket.recv\u001b[0;34m()\u001b[0m\n",
      "\u001b[0;32mzmq/backend/cython/socket.pyx\u001b[0m in \u001b[0;36mzmq.backend.cython.socket.Socket.recv\u001b[0;34m()\u001b[0m\n",
      "\u001b[0;32mzmq/backend/cython/socket.pyx\u001b[0m in \u001b[0;36mzmq.backend.cython.socket._recv_copy\u001b[0;34m()\u001b[0m\n",
      "\u001b[0;32m~/anaconda3/envs/my_allennlp/lib/python3.7/site-packages/zmq/backend/cython/checkrc.pxd\u001b[0m in \u001b[0;36mzmq.backend.cython.checkrc._check_rc\u001b[0;34m()\u001b[0m\n",
      "\u001b[0;31mKeyboardInterrupt\u001b[0m: ",
      "\nDuring handling of the above exception, another exception occurred:\n",
      "\u001b[0;31mKeyboardInterrupt\u001b[0m                         Traceback (most recent call last)",
      "\u001b[0;32m<ipython-input-8-263240bbee7e>\u001b[0m in \u001b[0;36m<module>\u001b[0;34m\u001b[0m\n\u001b[0;32m----> 1\u001b[0;31m \u001b[0mmain\u001b[0m\u001b[0;34m(\u001b[0m\u001b[0;34m)\u001b[0m\u001b[0;34m\u001b[0m\u001b[0;34m\u001b[0m\u001b[0m\n\u001b[0m",
      "\u001b[0;32m<ipython-input-7-05adc012e338>\u001b[0m in \u001b[0;36mmain\u001b[0;34m()\u001b[0m\n\u001b[1;32m     35\u001b[0m \u001b[0;34m\u001b[0m\u001b[0m\n\u001b[1;32m     36\u001b[0m     \u001b[0;32mwhile\u001b[0m \u001b[0;32mTrue\u001b[0m\u001b[0;34m:\u001b[0m\u001b[0;34m\u001b[0m\u001b[0;34m\u001b[0m\u001b[0m\n\u001b[0;32m---> 37\u001b[0;31m         \u001b[0mtitle\u001b[0m\u001b[0;34m=\u001b[0m\u001b[0minput\u001b[0m\u001b[0;34m(\u001b[0m\u001b[0;34m\"你的问题是? \\n\"\u001b[0m\u001b[0;34m)\u001b[0m\u001b[0;34m\u001b[0m\u001b[0;34m\u001b[0m\u001b[0m\n\u001b[0m\u001b[1;32m     38\u001b[0m         \u001b[0;32mif\u001b[0m \u001b[0mlen\u001b[0m\u001b[0;34m(\u001b[0m\u001b[0mtitle\u001b[0m\u001b[0;34m.\u001b[0m\u001b[0mstrip\u001b[0m\u001b[0;34m(\u001b[0m\u001b[0;34m)\u001b[0m\u001b[0;34m)\u001b[0m\u001b[0;34m==\u001b[0m\u001b[0;36m0\u001b[0m\u001b[0;34m:\u001b[0m\u001b[0;34m\u001b[0m\u001b[0;34m\u001b[0m\u001b[0m\n\u001b[1;32m     39\u001b[0m             \u001b[0;32mcontinue\u001b[0m\u001b[0;34m\u001b[0m\u001b[0;34m\u001b[0m\u001b[0m\n",
      "\u001b[0;32m~/anaconda3/envs/my_allennlp/lib/python3.7/site-packages/ipykernel/kernelbase.py\u001b[0m in \u001b[0;36mraw_input\u001b[0;34m(self, prompt)\u001b[0m\n\u001b[1;32m    857\u001b[0m             \u001b[0mself\u001b[0m\u001b[0;34m.\u001b[0m\u001b[0m_parent_ident\u001b[0m\u001b[0;34m,\u001b[0m\u001b[0;34m\u001b[0m\u001b[0;34m\u001b[0m\u001b[0m\n\u001b[1;32m    858\u001b[0m             \u001b[0mself\u001b[0m\u001b[0;34m.\u001b[0m\u001b[0m_parent_header\u001b[0m\u001b[0;34m,\u001b[0m\u001b[0;34m\u001b[0m\u001b[0;34m\u001b[0m\u001b[0m\n\u001b[0;32m--> 859\u001b[0;31m             \u001b[0mpassword\u001b[0m\u001b[0;34m=\u001b[0m\u001b[0;32mFalse\u001b[0m\u001b[0;34m,\u001b[0m\u001b[0;34m\u001b[0m\u001b[0;34m\u001b[0m\u001b[0m\n\u001b[0m\u001b[1;32m    860\u001b[0m         )\n\u001b[1;32m    861\u001b[0m \u001b[0;34m\u001b[0m\u001b[0m\n",
      "\u001b[0;32m~/anaconda3/envs/my_allennlp/lib/python3.7/site-packages/ipykernel/kernelbase.py\u001b[0m in \u001b[0;36m_input_request\u001b[0;34m(self, prompt, ident, parent, password)\u001b[0m\n\u001b[1;32m    887\u001b[0m             \u001b[0;32mexcept\u001b[0m \u001b[0mKeyboardInterrupt\u001b[0m\u001b[0;34m:\u001b[0m\u001b[0;34m\u001b[0m\u001b[0;34m\u001b[0m\u001b[0m\n\u001b[1;32m    888\u001b[0m                 \u001b[0;31m# re-raise KeyboardInterrupt, to truncate traceback\u001b[0m\u001b[0;34m\u001b[0m\u001b[0;34m\u001b[0m\u001b[0;34m\u001b[0m\u001b[0m\n\u001b[0;32m--> 889\u001b[0;31m                 \u001b[0;32mraise\u001b[0m \u001b[0mKeyboardInterrupt\u001b[0m\u001b[0;34m\u001b[0m\u001b[0;34m\u001b[0m\u001b[0m\n\u001b[0m\u001b[1;32m    890\u001b[0m             \u001b[0;32melse\u001b[0m\u001b[0;34m:\u001b[0m\u001b[0;34m\u001b[0m\u001b[0;34m\u001b[0m\u001b[0m\n\u001b[1;32m    891\u001b[0m                 \u001b[0;32mbreak\u001b[0m\u001b[0;34m\u001b[0m\u001b[0;34m\u001b[0m\u001b[0m\n",
      "\u001b[0;31mKeyboardInterrupt\u001b[0m: "
     ]
    }
   ],
   "source": [
    "main()"
   ]
  },
  {
   "cell_type": "code",
   "execution_count": 7,
   "metadata": {},
   "outputs": [],
   "source": [
    "def mean_reciprocal_rank(rs):\n",
    "    rs = (np.asarray(r).nonzero()[0] for r in rs)\n",
    "    return np.mean([1. / (r[0] + 1) if r.size else 0. for r in rs])\n",
    "\n",
    "\n",
    "def evaluate_mmr():\n",
    "    # load candidate embeddings\n",
    "    with open(\"embeddings.pkl\",\"rb\") as fin:\n",
    "        candidate_title,candidate_reply,candidate_embeddings=pickle.load(fin)\n",
    "    \n",
    "    \n",
    "    # load test data\n",
    "    df=pd.read_csv(\"/Users/valleria_ruka/Desktop/FAQ/lawzhidao_evaluate.csv\")\n",
    "    questions=df[\"question\"].tolist()\n",
    "    matched_questions=df[\"title\"].tolist()\n",
    "    matched_questions_index = []\n",
    "    for q in matched_questions:\n",
    "        flg = False\n",
    "        for i, _q in enumerate(candidate_title):\n",
    "            if q == _q:\n",
    "                matched_questions_index.append([i])\n",
    "                flg = True\n",
    "                break\n",
    "        if flg == False:\n",
    "            matched_questions_index.append([-1])\n",
    "    \n",
    "    matched_questions_index = np.asarray(matched_questions_index)\n",
    "    \n",
    "    \n",
    "    questions = [seg.cut(q.strip()) for q in questions]\n",
    "    question_embedding = [np.mean(emb, 0) for emb in e.sents2elmo(questions)]\n",
    "\n",
    "\n",
    "    scores = cosine_similarity(question_embedding, candidate_embeddings)\n",
    "    sorted_indices = scores.argsort()[:, ::-1]#[-5:][::-1]\n",
    "\n",
    "    mmr = mean_reciprocal_rank(sorted_indices==matched_questions_index)\n",
    "    print(\"mean reciprocal rank: {}\".format(mmr))"
   ]
  },
  {
   "cell_type": "code",
   "execution_count": 8,
   "metadata": {},
   "outputs": [
    {
     "name": "stderr",
     "output_type": "stream",
     "text": [
      "2020-01-20 16:41:03,312 INFO: 1 batches, avg len: 6.0\n"
     ]
    },
    {
     "name": "stdout",
     "output_type": "stream",
     "text": [
      "mean reciprocal rank: 0.1978919797772126\n"
     ]
    }
   ],
   "source": [
    "evaluate_mmr()"
   ]
  },
  {
   "cell_type": "code",
   "execution_count": null,
   "metadata": {},
   "outputs": [],
   "source": []
  }
 ],
 "metadata": {
  "kernelspec": {
   "display_name": "Python 3",
   "language": "python",
   "name": "python3"
  },
  "language_info": {
   "codemirror_mode": {
    "name": "ipython",
    "version": 3
   },
   "file_extension": ".py",
   "mimetype": "text/x-python",
   "name": "python",
   "nbconvert_exporter": "python",
   "pygments_lexer": "ipython3",
   "version": "3.7.5"
  }
 },
 "nbformat": 4,
 "nbformat_minor": 2
}
